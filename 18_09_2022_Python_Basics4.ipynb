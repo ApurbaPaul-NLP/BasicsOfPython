{
  "nbformat": 4,
  "nbformat_minor": 0,
  "metadata": {
    "colab": {
      "provenance": [],
      "authorship_tag": "ABX9TyNJNWVfrXdvVn/kh17qJSlq",
      "include_colab_link": true
    },
    "kernelspec": {
      "name": "python3",
      "display_name": "Python 3"
    },
    "language_info": {
      "name": "python"
    }
  },
  "cells": [
    {
      "cell_type": "markdown",
      "metadata": {
        "id": "view-in-github",
        "colab_type": "text"
      },
      "source": [
        "<a href=\"https://colab.research.google.com/github/ApurbaPaul-NLP/BasicsOfPython/blob/main/18_09_2022_Python_Basics4.ipynb\" target=\"_parent\"><img src=\"https://colab.research.google.com/assets/colab-badge.svg\" alt=\"Open In Colab\"/></a>"
      ]
    },
    {
      "cell_type": "markdown",
      "source": [
        "45. Set the total to 0 to start with. While the total is 50 or less, ask the user to input a number. Add that number to the total and print the message “The total is… [total]”. Stop the loop when the total is over 50."
      ],
      "metadata": {
        "id": "O2O7VHjQZh6j"
      }
    },
    {
      "cell_type": "code",
      "source": [
        "total=0\n",
        "#use while loop\n",
        "while(total<=50):\n",
        "  num=int(input(\"Enter the number: \"))\n",
        "  total=total+num\n",
        "  print(\"The total is...\",total)"
      ],
      "metadata": {
        "colab": {
          "base_uri": "https://localhost:8080/"
        },
        "id": "mj628B0kZhEv",
        "outputId": "6eec7c42-3d46-40b6-f1d9-3db037d1b3b9"
      },
      "execution_count": 21,
      "outputs": [
        {
          "output_type": "stream",
          "name": "stdout",
          "text": [
            "Enter the number: 1\n",
            "The total is... 1\n",
            "Enter the number: 40\n",
            "The total is... 41\n",
            "Enter the number: 60\n",
            "The total is... 101\n"
          ]
        }
      ]
    },
    {
      "cell_type": "markdown",
      "source": [
        "46.Ask the user to enter a number. Keep asking until they enter a value over 5 and then display the message “The last number you entered was a [number]” and stop the program."
      ],
      "metadata": {
        "id": "RfjWha5Gajsf"
      }
    },
    {
      "cell_type": "code",
      "source": [
        "num=0\n",
        "while(num<=5):\n",
        "  num=int(input(\"Enter the number: \"))\n",
        "print(\"The last number you entered was a\",num)  "
      ],
      "metadata": {
        "colab": {
          "base_uri": "https://localhost:8080/"
        },
        "id": "iMK7_io4Zx4l",
        "outputId": "728aa600-964e-4e29-e082-5562dca08293"
      },
      "execution_count": 22,
      "outputs": [
        {
          "output_type": "stream",
          "name": "stdout",
          "text": [
            "Enter the number: 8\n",
            "The last number you entered was a 8\n"
          ]
        }
      ]
    },
    {
      "cell_type": "markdown",
      "source": [
        "47. Ask the user to enter a number and then enter another number. Add these two numbers together and then ask if they want to add another number. If they enter “y\", ask them to enter another number and keep adding numbers until they do not answer “y”. Once the loop has stopped, display the total."
      ],
      "metadata": {
        "id": "UG8-TaB7bKqI"
      }
    },
    {
      "cell_type": "code",
      "source": [
        "num1=int(input(\"Enter a number: \"))\n",
        "total=num1\n",
        "choice='y'\n",
        "while(choice=='y'):\n",
        "  num2=int(input(\"Enter another number: \"))\n",
        "  total=total+num2\n",
        "  choice=input(\"Enter your choice\")\n",
        "print(\"The total is: \",total)  "
      ],
      "metadata": {
        "colab": {
          "base_uri": "https://localhost:8080/"
        },
        "id": "cT6SLJgZbLOC",
        "outputId": "38769a25-af44-4a47-ae87-1a912ae58196"
      },
      "execution_count": 23,
      "outputs": [
        {
          "output_type": "stream",
          "name": "stdout",
          "text": [
            "Enter a number: 10\n",
            "Enter another number: 50\n",
            "Enter your choicey\n",
            "Enter another number: 80\n",
            "Enter your choicen\n",
            "The total is:  140\n"
          ]
        }
      ]
    },
    {
      "cell_type": "markdown",
      "source": [
        "48. Ask for the name of somebody the user wants to invite to a party. After this, display the message “[name] has now been invited” and add 1 to the count. Then ask if they want to invite somebody else. Keep repeating this until they no longer want to invite anyone else to the party and then display how many people they have coming to the party."
      ],
      "metadata": {
        "id": "IRq9RkBmcc29"
      }
    },
    {
      "cell_type": "code",
      "source": [
        "choice='y'\n",
        "count=0\n",
        "while(choice=='y'):\n",
        "  name=input(\"Enter the name: \")\n",
        "  count=count+1\n",
        "  print(name,\" has now been invited\")\n",
        "  choice=input(\"Enter your chocie: \")\n",
        "print(\"You have \", count, \"people coming to the party\")  \n"
      ],
      "metadata": {
        "colab": {
          "base_uri": "https://localhost:8080/"
        },
        "id": "ySDJ4THocHv2",
        "outputId": "6e0cd8a6-03db-4243-b2d0-323bd9d40975"
      },
      "execution_count": 24,
      "outputs": [
        {
          "output_type": "stream",
          "name": "stdout",
          "text": [
            "Enter the name: apurba\n",
            "apurba  has now been invited\n",
            "Enter your chocie: n\n",
            "You have  1 people coming to the party\n"
          ]
        }
      ]
    },
    {
      "cell_type": "markdown",
      "source": [
        "49. Create a variable called compnum and set the value to 50. Ask the user to enter a number. While their guess is not the same as the compnum value, tell them if their guess is too low or too high and ask them to have another guess. If they enter the same value as compnum, display the message “Well done, you took [count] attempts”. "
      ],
      "metadata": {
        "id": "AmNDRzDedlGP"
      }
    },
    {
      "cell_type": "code",
      "source": [
        "compnum=50\n",
        "guess=int(input(\"Enter the number to guess: \"))\n",
        "count=1\n",
        "while(guess!=compnum):\n",
        "  if(guess<compnum):\n",
        "    print(\"Too low\")\n",
        "  else:\n",
        "    print(\"Too high\")\n",
        "  count=count+1     \n",
        "  guess=int(input(\"Enter the number to guess: \"))\n",
        "print(\"Well done, you took\",count, \"attempts\")  \n"
      ],
      "metadata": {
        "colab": {
          "base_uri": "https://localhost:8080/"
        },
        "id": "5wTYyORrdLfh",
        "outputId": "ffb0fbe8-8c21-42eb-add0-69c0c4bec350"
      },
      "execution_count": 25,
      "outputs": [
        {
          "output_type": "stream",
          "name": "stdout",
          "text": [
            "Enter the number to guess: 10\n",
            "Too low\n",
            "Enter the number to guess: 20\n",
            "Too low\n",
            "Enter the number to guess: 30\n",
            "Too low\n",
            "Enter the number to guess: 50\n",
            "Well done, you took 4 attempts\n"
          ]
        }
      ]
    },
    {
      "cell_type": "markdown",
      "source": [
        "50. Ask the user to enter a number between 10 and 20. If they enter a value under 10, display the message “Too low” and ask them to try again. If they enter a value above 20, display the message “Too high” and ask them to try again. Keep repeating this until they enter a value that is between 10 and 20 and then display the message “Thank you”."
      ],
      "metadata": {
        "id": "rIBsvseQeqj-"
      }
    },
    {
      "cell_type": "code",
      "source": [
        "num=int(input(\"Enter the number: \"))\n",
        "while(num<10 or num>20):\n",
        "  if(num<10):\n",
        "    print(\"Too low\")\n",
        "  elif(num>20):\n",
        "    print(\"Too high\")\n",
        "  num=int(input(\"Enter the number Again: \"))\n",
        "print(\"Thank You\")  \n"
      ],
      "metadata": {
        "colab": {
          "base_uri": "https://localhost:8080/"
        },
        "id": "-VbBXNUVerIP",
        "outputId": "7522951d-9224-49be-9d08-e9374a19df03"
      },
      "execution_count": 26,
      "outputs": [
        {
          "output_type": "stream",
          "name": "stdout",
          "text": [
            "Enter the number: 15\n",
            "Thank You\n"
          ]
        }
      ]
    },
    {
      "cell_type": "markdown",
      "source": [
        "51. Using the song “10 green bottles”, display the lines “There are [num] green bottles hanging on the wall, [num] green bottles hanging on the wall, and if 1 green bottle should accidentally fall”. Then ask the question “how many green bottles will be hanging on the wall?” If the user answers correctly, display the message “There will be [num] green bottles hanging on the wall”. If they answer incorrectly, display the message “No, try again” until they get it right. When the number of green bottles gets down to 0, display the message “There are no more green bottles hanging on the wall”. "
      ],
      "metadata": {
        "id": "5XcK1ybDfoyr"
      }
    },
    {
      "cell_type": "markdown",
      "source": [
        "52. Display a random integer between 1 and 100 inclusive. "
      ],
      "metadata": {
        "id": "UBpVaIeDgiWv"
      }
    },
    {
      "cell_type": "code",
      "source": [
        "import random\n",
        "num=random.randint(1,100)\n",
        "print(num)"
      ],
      "metadata": {
        "colab": {
          "base_uri": "https://localhost:8080/"
        },
        "id": "0TQorwwRgtJM",
        "outputId": "d7e5164e-5b7f-4eaa-f219-72c2239b48b7"
      },
      "execution_count": 28,
      "outputs": [
        {
          "output_type": "stream",
          "name": "stdout",
          "text": [
            "48\n"
          ]
        }
      ]
    },
    {
      "cell_type": "markdown",
      "source": [
        "53. Display a random fruit from a list of five fruits."
      ],
      "metadata": {
        "id": "hIjTwvUyhLQM"
      }
    },
    {
      "cell_type": "code",
      "source": [
        "import random\n",
        "mylist=['apple','orange','grape','bananas','strawberry']\n",
        "fruit=random.choice(mylist)\n",
        "print(fruit)"
      ],
      "metadata": {
        "colab": {
          "base_uri": "https://localhost:8080/"
        },
        "id": "ji8qQ-PXhMST",
        "outputId": "71073d2a-75b7-4c28-d8ee-553824e0b6d7"
      },
      "execution_count": 29,
      "outputs": [
        {
          "output_type": "stream",
          "name": "stdout",
          "text": [
            "grape\n"
          ]
        }
      ]
    },
    {
      "cell_type": "markdown",
      "source": [
        "54. Randomly choose either heads or tails (“h” or “t”). Ask the user to make their choice. If their choice is the same as the randomly selected value, display the message “You win”, otherwise display “Bad luck”. At the end, tell the user if the computer selected heads or tails. "
      ],
      "metadata": {
        "id": "fREOqRLLiQKe"
      }
    },
    {
      "cell_type": "code",
      "source": [
        "import random\n",
        "coin=random.choice(['h','t'])\n",
        "guess=input(\"Enter (h)eads ot (t)ails:\")\n",
        "if(guess==coin):\n",
        "  print(\"You Win\")\n",
        "else:\n",
        "  print(\"Bad Luck\")\n",
        "if(coin=='h'):\n",
        "  print(\"It is head\")\n",
        "else:\n",
        "  print(\"It is tail\")      "
      ],
      "metadata": {
        "colab": {
          "base_uri": "https://localhost:8080/"
        },
        "id": "wUFMyKahhe-K",
        "outputId": "46290c70-1d1d-4623-ebfb-fc0015f91cd0"
      },
      "execution_count": 31,
      "outputs": [
        {
          "output_type": "stream",
          "name": "stdout",
          "text": [
            "Enter (h)eads ot (t)ails:h\n",
            "You Win\n",
            "It is head\n"
          ]
        }
      ]
    },
    {
      "cell_type": "markdown",
      "source": [
        "55. Randomly choose a number between 1 and 5. Ask the user to pick a number. If they guess correctly, display the message “Well done”, otherwise tell them if they are too high or too low and ask them to pick a second number. If they guess correctly on their second guess, display “Correct”, otherwise display “You lose”."
      ],
      "metadata": {
        "id": "w9Y5fRQGjvDb"
      }
    },
    {
      "cell_type": "markdown",
      "source": [
        "56. Randomly pick a whole number between 1 and 10. Ask the user to enter a number and keep entering numbers until they enter the number that was randomly picked."
      ],
      "metadata": {
        "id": "a1TwXtg8j-Qh"
      }
    },
    {
      "cell_type": "code",
      "source": [
        "import random\n",
        "num=random.randint(1,10)\n",
        "ct=False\n",
        "while(ct==False):\n",
        "  guess=int(input(\"Enter a number: \"))\n",
        "  if(guess==num):\n",
        "    ct=True\n",
        "print(\"Guess=\",guess, \"Num=\",num)    "
      ],
      "metadata": {
        "colab": {
          "base_uri": "https://localhost:8080/"
        },
        "id": "iprPIRX9jJlc",
        "outputId": "4be7385c-1385-44ef-b65c-db121f76da56"
      },
      "execution_count": 32,
      "outputs": [
        {
          "output_type": "stream",
          "name": "stdout",
          "text": [
            "Enter a number: 9\n",
            "Guess= 9 Num= 9\n"
          ]
        }
      ]
    },
    {
      "cell_type": "markdown",
      "source": [
        "57. Update program 56 so that it tells the user if they are too high or too low before they pick again. "
      ],
      "metadata": {
        "id": "-VfFRV2Ok7FM"
      }
    },
    {
      "cell_type": "code",
      "source": [
        "import random\n",
        "num=random.randint(1,10)\n",
        "ct=False\n",
        "while(ct==False):\n",
        "  guess=int(input(\"Enter a number: \"))\n",
        "  if(guess<num):\n",
        "    print(\"Too low\")\n",
        "  elif(guess>num):\n",
        "    print(\"Too High\")  \n",
        "  if(guess==num):\n",
        "    ct=True\n",
        "print(\"Guess=\",guess, \"Num=\",num) "
      ],
      "metadata": {
        "colab": {
          "base_uri": "https://localhost:8080/"
        },
        "id": "e28Ars9yku_n",
        "outputId": "66aece52-267a-43a4-b4bd-aef42412170b"
      },
      "execution_count": 33,
      "outputs": [
        {
          "output_type": "stream",
          "name": "stdout",
          "text": [
            "Enter a number: 7\n",
            "Too High\n",
            "Enter a number: 5\n",
            "Too High\n",
            "Enter a number: 4\n",
            "Too High\n",
            "Enter a number: 2\n",
            "Too low\n",
            "Enter a number: 3\n",
            "Guess= 3 Num= 3\n"
          ]
        }
      ]
    },
    {
      "cell_type": "markdown",
      "source": [
        "58. Make a maths quiz that asks five questions by randomly generating two whole numbers to make the question (e.g. [num1] + [num2]). Ask the user to enter the answer. If they get it right add a point to their score. At the end of the quiz, tell them how many they got correct out of five."
      ],
      "metadata": {
        "id": "7fOADnTQljoz"
      }
    },
    {
      "cell_type": "code",
      "source": [
        "import random\n",
        "score=0\n",
        "for i in range(1,6):\n",
        "  num1=random.randint(1,50)\n",
        "  num2=random.randint(1,50)\n",
        "  correct=num1+num2\n",
        "  print(num1,\"+\",num2,\"= \")\n",
        "  answer=int(input(\"Your Answer: \"))\n",
        "  print()\n",
        "  if(answer==correct):\n",
        "    score=score+1\n",
        "print(\"You scored\",score,\"out of 5\")\n",
        "\n"
      ],
      "metadata": {
        "colab": {
          "base_uri": "https://localhost:8080/"
        },
        "id": "3lGrW7FTlkPv",
        "outputId": "4bd855cf-8b4c-4e7e-955f-073e8da49db8"
      },
      "execution_count": 34,
      "outputs": [
        {
          "output_type": "stream",
          "name": "stdout",
          "text": [
            "42 + 36 = \n",
            "Your Answer: 76\n",
            "\n",
            "36 + 38 = \n",
            "Your Answer: 74\n",
            "\n",
            "47 + 16 = \n",
            "Your Answer: 63\n",
            "\n",
            "8 + 8 = \n",
            "Your Answer: 16\n",
            "\n",
            "39 + 45 = \n",
            "Your Answer: 84\n",
            "\n",
            "You scored 4 out of 5\n"
          ]
        }
      ]
    },
    {
      "cell_type": "markdown",
      "source": [
        "59. Display five colours and ask the user to pick one. If they pick the same as the program has chosen, say “Well done”, otherwise display a witty answer which involves the correct colour, e.g. “I bet you are GREEN with envy” or “You are probably feeling BLUE right now”. Ask them to guess again; if they have still not got it right, keep giving them the same clue and ask the user to enter a colour until they guess it correctly."
      ],
      "metadata": {
        "id": "B8hdupFfmzJ2"
      }
    },
    {
      "cell_type": "code",
      "source": [
        "import random\n",
        "\n",
        "color=random.choice(['red','blue','green','white','pink'])\n",
        "tryagain=True\n",
        "while(tryagain==True):\n",
        "  usercolor=input(\"Enter your color: \")\n",
        "  usercolor=usercolor.lower()\n",
        "  if(color==usercolor):\n",
        "    print(\"Well done\")\n",
        "    tryagain=False\n",
        "  else:\n",
        "    if(color=='red'):\n",
        "      print(\"It was red\")\n",
        "    elif(color=='blue'):\n",
        "      print(\"It was blue\")\n",
        "    elif(color=='green'):\n",
        "      print(\"It was green\")\n",
        "    elif(color=='white'):\n",
        "      print(\"It was white\")\n",
        "    elif(color=='pink'):\n",
        "      print(\"It was pink\")    \n",
        "\n"
      ],
      "metadata": {
        "colab": {
          "base_uri": "https://localhost:8080/"
        },
        "id": "pyRAnRbLmbbg",
        "outputId": "15101ca1-324d-4ca0-c301-3194e603b896"
      },
      "execution_count": 35,
      "outputs": [
        {
          "output_type": "stream",
          "name": "stdout",
          "text": [
            "Enter your color: red\n",
            "It was pink\n",
            "Enter your color: pink\n",
            "Well done\n"
          ]
        }
      ]
    }
  ]
}