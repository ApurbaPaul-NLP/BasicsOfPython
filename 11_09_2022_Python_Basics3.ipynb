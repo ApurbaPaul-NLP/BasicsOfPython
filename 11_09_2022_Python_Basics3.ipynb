{
  "nbformat": 4,
  "nbformat_minor": 0,
  "metadata": {
    "colab": {
      "provenance": [],
      "authorship_tag": "ABX9TyPUGNdb7HuB21BA+lBGkCxw",
      "include_colab_link": true
    },
    "kernelspec": {
      "name": "python3",
      "display_name": "Python 3"
    },
    "language_info": {
      "name": "python"
    }
  },
  "cells": [
    {
      "cell_type": "markdown",
      "metadata": {
        "id": "view-in-github",
        "colab_type": "text"
      },
      "source": [
        "<a href=\"https://colab.research.google.com/github/ApurbaPaul-NLP/BasicsOfPython/blob/main/11_09_2022_Python_Basics3.ipynb\" target=\"_parent\"><img src=\"https://colab.research.google.com/assets/colab-badge.svg\" alt=\"Open In Colab\"/></a>"
      ]
    },
    {
      "cell_type": "markdown",
      "source": [
        "Ask the user to enter their first name and then display the length of their name."
      ],
      "metadata": {
        "id": "gCtOGlGiUmwc"
      }
    },
    {
      "cell_type": "code",
      "execution_count": 4,
      "metadata": {
        "colab": {
          "base_uri": "https://localhost:8080/"
        },
        "id": "PCJ7ELDeSvEj",
        "outputId": "b744f0c4-a71b-4310-9074-de7affe52316"
      },
      "outputs": [
        {
          "output_type": "stream",
          "name": "stdout",
          "text": [
            "Enter your Name: Apurba\n",
            "Apurba\n",
            "The length is: 6\n"
          ]
        }
      ],
      "source": [
        "name=input(\"Enter your Name: \")\n",
        "print(name)\n",
        "print(\"The length is:\",len(name))"
      ]
    },
    {
      "cell_type": "markdown",
      "source": [
        "Ask the user to enter their first name and then ask them to enter their surname. Join them together with a space between and display the name and the length of whole name."
      ],
      "metadata": {
        "id": "zPqfVDM0XLWM"
      }
    },
    {
      "cell_type": "code",
      "source": [
        "fn=input(\"Enter the First Name:\")\n",
        "sn=input(\"Enter the Surname:\")\n",
        "name=fn+\" \"+sn\n",
        "print(name)\n",
        "print(len(name))"
      ],
      "metadata": {
        "colab": {
          "base_uri": "https://localhost:8080/"
        },
        "id": "Y5lFV2-nW0hn",
        "outputId": "de6ccb31-7879-423e-81fa-ed61337934c1"
      },
      "execution_count": 5,
      "outputs": [
        {
          "output_type": "stream",
          "name": "stdout",
          "text": [
            "Enter the First Name:Apurba\n",
            "Enter the Surname:Paul\n",
            "Apurba Paul\n",
            "11\n"
          ]
        }
      ]
    },
    {
      "cell_type": "markdown",
      "source": [
        "Ask the user to enter their first name and surname in lower case. Change the case to title case and join them together.Display the finished result.\n",
        "\n",
        "\n",
        "\n",
        "```\n",
        "apurba--lower()\n",
        "APURBA-upper()\n",
        "Apurba---title()\n",
        "```\n",
        "\n"
      ],
      "metadata": {
        "id": "-dYyyy4qXvas"
      }
    },
    {
      "cell_type": "code",
      "source": [
        "fn=input(\"Enter the First Name in lowercase:\")\n",
        "sn=input(\"Enter the Surname in lowercase:\")\n",
        "fn=fn.title()\n",
        "sn=sn.title()\n",
        "name=fn+\" \"+sn\n",
        "print(name)\n"
      ],
      "metadata": {
        "colab": {
          "base_uri": "https://localhost:8080/"
        },
        "id": "px2L-ZsqXm3E",
        "outputId": "4b1cd292-4817-4da4-bc19-be51bfd10a20"
      },
      "execution_count": 6,
      "outputs": [
        {
          "output_type": "stream",
          "name": "stdout",
          "text": [
            "Enter the First Name in lowercase:apurba\n",
            "Enter the Surname in lowercase:paul\n",
            "Apurba Paul\n"
          ]
        }
      ]
    },
    {
      "cell_type": "markdown",
      "source": [
        "Ask the user to type in the first line of a nursery rhyme and display the length of the string. Ask for a starting number and an ending number and then display just that section of the text (remember Python starts counting from 0 and not 1).\n",
        "\n",
        "\n",
        "```\n",
        "twinkle twinkle little star\n",
        "n1=0\n",
        "n2=15\n",
        "twinkle twinkle\n",
        "```\n",
        "\n"
      ],
      "metadata": {
        "id": "XhzCNc1vYrwa"
      }
    },
    {
      "cell_type": "code",
      "source": [
        "sentence=input(\"Enter the first line of the rhyme\")\n",
        "print(len(sentence))\n",
        "n1=int(input(\"Enter the first number:\"))\n",
        "n2=int(input(\"Enter the second number:\"))\n",
        "part=sentence[n1:n2]\n",
        "print(part)"
      ],
      "metadata": {
        "colab": {
          "base_uri": "https://localhost:8080/"
        },
        "id": "riXXoYBIYf9q",
        "outputId": "1bda31fb-f41e-44c7-ca07-a8c2030b4c44"
      },
      "execution_count": 7,
      "outputs": [
        {
          "output_type": "stream",
          "name": "stdout",
          "text": [
            "Enter the first line of the rhymetwinkle twinkle little star\n",
            "27\n",
            "Enter the first number:0\n",
            "Enter the second number:15\n",
            "twinkle twinkle\n"
          ]
        }
      ]
    },
    {
      "cell_type": "code",
      "source": [
        "sentence=input(\"Enter the first line of the rhyme:\")\n",
        "print(type(sentence))\n",
        "print(sentence[0])\n",
        "print(sentence[1])\n",
        "print(sentence[2])"
      ],
      "metadata": {
        "colab": {
          "base_uri": "https://localhost:8080/"
        },
        "id": "bRVK0hmuZo7v",
        "outputId": "b4c10bef-b678-4640-cfe5-d8bc7e6ec5bf"
      },
      "execution_count": 10,
      "outputs": [
        {
          "output_type": "stream",
          "name": "stdout",
          "text": [
            "Enter the first line of the rhyme:twinkle twinkle little star\n",
            "<class 'str'>\n",
            "t\n",
            "w\n",
            "i\n"
          ]
        }
      ]
    },
    {
      "cell_type": "code",
      "source": [
        "sentence=input(\"Enter the name:\")\n",
        "for i in range(len(sentence)):\n",
        "  print(i,'\\t',sentence[i])"
      ],
      "metadata": {
        "colab": {
          "base_uri": "https://localhost:8080/"
        },
        "id": "7GCclRIzZ3A-",
        "outputId": "98b7debe-6c17-4bba-8daa-e27e64c55d2d"
      },
      "execution_count": 11,
      "outputs": [
        {
          "output_type": "stream",
          "name": "stdout",
          "text": [
            "Enter the name:Apurba\n",
            "0 \t A\n",
            "1 \t p\n",
            "2 \t u\n",
            "3 \t r\n",
            "4 \t b\n",
            "5 \t a\n"
          ]
        }
      ]
    },
    {
      "cell_type": "code",
      "source": [
        "sentence[0:3]"
      ],
      "metadata": {
        "colab": {
          "base_uri": "https://localhost:8080/",
          "height": 36
        },
        "id": "zoUPV7kvao_d",
        "outputId": "cba37f74-74e8-4d79-a1f1-9846e75b3671"
      },
      "execution_count": 12,
      "outputs": [
        {
          "output_type": "execute_result",
          "data": {
            "text/plain": [
              "'Apu'"
            ],
            "application/vnd.google.colaboratory.intrinsic+json": {
              "type": "string"
            }
          },
          "metadata": {},
          "execution_count": 12
        }
      ]
    },
    {
      "cell_type": "code",
      "source": [
        "sentence[1:4]"
      ],
      "metadata": {
        "colab": {
          "base_uri": "https://localhost:8080/",
          "height": 36
        },
        "id": "t4iUvbxtar7D",
        "outputId": "14fae759-b362-413e-b999-abd7ba96df8b"
      },
      "execution_count": 13,
      "outputs": [
        {
          "output_type": "execute_result",
          "data": {
            "text/plain": [
              "'pur'"
            ],
            "application/vnd.google.colaboratory.intrinsic+json": {
              "type": "string"
            }
          },
          "metadata": {},
          "execution_count": 13
        }
      ]
    },
    {
      "cell_type": "code",
      "source": [
        "sentence[-6:-1]"
      ],
      "metadata": {
        "colab": {
          "base_uri": "https://localhost:8080/",
          "height": 36
        },
        "id": "feiJg9-PawX7",
        "outputId": "fc45c202-da3e-434c-92ff-3eeeaa7c6ad5"
      },
      "execution_count": 19,
      "outputs": [
        {
          "output_type": "execute_result",
          "data": {
            "text/plain": [
              "'Apurb'"
            ],
            "application/vnd.google.colaboratory.intrinsic+json": {
              "type": "string"
            }
          },
          "metadata": {},
          "execution_count": 19
        }
      ]
    },
    {
      "cell_type": "code",
      "source": [
        "for i in range(len(sentence),0,-1):\n",
        "  print(sentence[-i])"
      ],
      "metadata": {
        "colab": {
          "base_uri": "https://localhost:8080/"
        },
        "id": "GREsn3xha--z",
        "outputId": "ac305b10-ec4e-4992-e2c3-dbf9d9f9dadc"
      },
      "execution_count": 20,
      "outputs": [
        {
          "output_type": "stream",
          "name": "stdout",
          "text": [
            "A\n",
            "p\n",
            "u\n",
            "r\n",
            "b\n",
            "a\n"
          ]
        }
      ]
    },
    {
      "cell_type": "markdown",
      "source": [
        "Ask the user to type in any word and display it in upper case."
      ],
      "metadata": {
        "id": "n6Wcfwl3bvUg"
      }
    },
    {
      "cell_type": "code",
      "source": [
        "word=input(\"Enter the word:\")\n",
        "print(word.upper())"
      ],
      "metadata": {
        "colab": {
          "base_uri": "https://localhost:8080/"
        },
        "id": "ZLD_fcCrbxri",
        "outputId": "1e66db8a-6c66-4b5e-df95-bb0da833833a"
      },
      "execution_count": 21,
      "outputs": [
        {
          "output_type": "stream",
          "name": "stdout",
          "text": [
            "Enter the word:apurba\n",
            "APURBA\n"
          ]
        }
      ]
    },
    {
      "cell_type": "markdown",
      "source": [
        "Ask the user to enter their first name. If the length of their first name is under five characters, ask them to enter their surname and join them together (without a space) and display the name in upper case. If the length of the first name is five or more characters, display their first name in lower case.\n"
      ],
      "metadata": {
        "id": "O2gV81CQcAQE"
      }
    },
    {
      "cell_type": "code",
      "source": [
        "fn=input(\"Enter the First Name:\")\n",
        "fnl=len(fn)\n",
        "if(fnl<5):\n",
        "  sn=input(\"Enter the Surname:\")\n",
        "  name=fn+sn\n",
        "  print(name.upper())\n",
        "elif(fnl>=5):\n",
        "  print(fn.lower())  "
      ],
      "metadata": {
        "colab": {
          "base_uri": "https://localhost:8080/"
        },
        "id": "H9uMSEmQb4DY",
        "outputId": "90123318-865a-4d85-8f19-55836711d2c2"
      },
      "execution_count": 26,
      "outputs": [
        {
          "output_type": "stream",
          "name": "stdout",
          "text": [
            "Enter the First Name:SAHELY\n",
            "sahely\n"
          ]
        }
      ]
    },
    {
      "cell_type": "markdown",
      "source": [
        "Pig Latin takes the first consonant of a word,moves it to the end of the word and adds on an \"ay\". If a word begins with a vowel you just add \"way\" to the end. For example, pig becomes igpay, banana becomes ananabay, and aadvark becomes aadvarkway. Create a program that will ask the user to enter a word and change it into Pig Latin. Make sure the new word is displayed in lower case."
      ],
      "metadata": {
        "id": "WCrLRVwqcB79"
      }
    },
    {
      "cell_type": "code",
      "source": [
        "word=input(\"Enter the word:\")\n",
        "fc=word[0]\n",
        "print(fc)\n",
        "rest=word[1:len(word)]\n",
        "print(rest)\n",
        "if fc!='a' and fc!='A'and fc!='e' and fc!='E' and fc!='i' and fc!='I' and fc!='o' and fc!='O' and fc!='u' and fc!='U':\n",
        "  newword=rest+fc+'ay'\n",
        "else:\n",
        "  newword=word+'way'\n",
        "print(newword.lower())    \n"
      ],
      "metadata": {
        "colab": {
          "base_uri": "https://localhost:8080/"
        },
        "id": "QJE2oaz5eKAQ",
        "outputId": "11dd4dd7-1436-4391-f8b4-c0a747eae230"
      },
      "execution_count": 32,
      "outputs": [
        {
          "output_type": "stream",
          "name": "stdout",
          "text": [
            "Enter the word:APURBA\n",
            "A\n",
            "PURBA\n",
            "apurbaway\n"
          ]
        }
      ]
    },
    {
      "cell_type": "markdown",
      "source": [
        "Ask the user to enter a number with lots of decimal places. Multiply this number by two and display the answer."
      ],
      "metadata": {
        "id": "5AaJEXEGgnUh"
      }
    },
    {
      "cell_type": "code",
      "source": [
        "num=float(input(\"Enter the float number:\"))\n",
        "print(num*2)"
      ],
      "metadata": {
        "colab": {
          "base_uri": "https://localhost:8080/"
        },
        "id": "OIAttLUaewpe",
        "outputId": "92c0f1fe-8bb2-400e-e7b9-1cea580aefee"
      },
      "execution_count": 33,
      "outputs": [
        {
          "output_type": "stream",
          "name": "stdout",
          "text": [
            "Enter the float number:1.99999999999999\n",
            "3.99999999999998\n"
          ]
        }
      ]
    },
    {
      "cell_type": "markdown",
      "source": [
        "Ask the user to enter a number with lots of decimal places. Multiply this number by two and display the answer in two decimal places"
      ],
      "metadata": {
        "id": "boUcaRCOg46_"
      }
    },
    {
      "cell_type": "code",
      "source": [
        "num=float(input(\"Enter the float number:\"))\n",
        "answer=num*2\n",
        "print(answer)\n",
        "print(round(answer,2))"
      ],
      "metadata": {
        "colab": {
          "base_uri": "https://localhost:8080/"
        },
        "id": "BD3sNu84gwPe",
        "outputId": "97ded626-a6fc-4e60-b38d-acebd28d2a9b"
      },
      "execution_count": 36,
      "outputs": [
        {
          "output_type": "stream",
          "name": "stdout",
          "text": [
            "Enter the float number:1.5656565656\n",
            "3.1313131312\n",
            "3.13\n"
          ]
        }
      ]
    },
    {
      "cell_type": "markdown",
      "source": [
        "Ask the user to enter an integer that is over 500. Work out the square root of that number and display it to two decimal places."
      ],
      "metadata": {
        "id": "c7sbG7qZhbA9"
      }
    },
    {
      "cell_type": "code",
      "source": [
        "import math\n",
        "num=int(input(\"Enter the int number:\"))\n",
        "if(num>500):\n",
        "  answer=math.sqrt(num)\n",
        "  print(round(answer,2))\n",
        "else:\n",
        "  print(\"Please enter the number greater than 500\")  "
      ],
      "metadata": {
        "colab": {
          "base_uri": "https://localhost:8080/"
        },
        "id": "msoyhrpdhCxq",
        "outputId": "b61f1b18-9516-4d4d-fa10-58c2d6456410"
      },
      "execution_count": 40,
      "outputs": [
        {
          "output_type": "stream",
          "name": "stdout",
          "text": [
            "Enter the int number:550\n",
            "23.45\n"
          ]
        }
      ]
    },
    {
      "cell_type": "markdown",
      "source": [
        "Display pi (π) to five decimal places."
      ],
      "metadata": {
        "id": "gvlyCbVtiUa2"
      }
    },
    {
      "cell_type": "code",
      "source": [
        "import math\n",
        "print(math.pi)\n",
        "print(round(math.pi,5))"
      ],
      "metadata": {
        "colab": {
          "base_uri": "https://localhost:8080/"
        },
        "id": "fNCzO9QWiIWQ",
        "outputId": "7878d070-1198-44e8-8122-7b0b8c63f406"
      },
      "execution_count": 43,
      "outputs": [
        {
          "output_type": "stream",
          "name": "stdout",
          "text": [
            "3.141592653589793\n",
            "3.14159\n"
          ]
        }
      ]
    },
    {
      "cell_type": "markdown",
      "source": [
        "Ask the user to enter the radius of a circle (measurement from the centre point to the edge). Work out the area of the circle (π*radius^2)."
      ],
      "metadata": {
        "id": "n_ikWfdriqhA"
      }
    },
    {
      "cell_type": "code",
      "source": [
        "a=10\n",
        "a*a"
      ],
      "metadata": {
        "colab": {
          "base_uri": "https://localhost:8080/"
        },
        "id": "hfpg1OTuiyUf",
        "outputId": "a8781e43-36c7-4798-a45e-09c02c3c9809"
      },
      "execution_count": 44,
      "outputs": [
        {
          "output_type": "execute_result",
          "data": {
            "text/plain": [
              "100"
            ]
          },
          "metadata": {},
          "execution_count": 44
        }
      ]
    },
    {
      "cell_type": "code",
      "source": [
        "a**2\n"
      ],
      "metadata": {
        "colab": {
          "base_uri": "https://localhost:8080/"
        },
        "id": "5zNPA54pieJ2",
        "outputId": "8310534a-3c5e-485b-d019-843b222986b5"
      },
      "execution_count": 45,
      "outputs": [
        {
          "output_type": "execute_result",
          "data": {
            "text/plain": [
              "100"
            ]
          },
          "metadata": {},
          "execution_count": 45
        }
      ]
    },
    {
      "cell_type": "code",
      "source": [
        "a**10"
      ],
      "metadata": {
        "colab": {
          "base_uri": "https://localhost:8080/"
        },
        "id": "GCSXtmLhi1nA",
        "outputId": "9484462e-6466-4607-8c8b-40e30ca9444a"
      },
      "execution_count": 46,
      "outputs": [
        {
          "output_type": "execute_result",
          "data": {
            "text/plain": [
              "10000000000"
            ]
          },
          "metadata": {},
          "execution_count": 46
        }
      ]
    },
    {
      "cell_type": "code",
      "source": [
        "rad=int(input(\"Enter the radius of the circle:\"))\n",
        "area=math.pi*(rad**2)\n",
        "print(area)"
      ],
      "metadata": {
        "colab": {
          "base_uri": "https://localhost:8080/"
        },
        "id": "lLAFSJCEi4wS",
        "outputId": "fbea47ad-d28a-454b-d389-1a27035fcef2"
      },
      "execution_count": 47,
      "outputs": [
        {
          "output_type": "stream",
          "name": "stdout",
          "text": [
            "Enter the radius of the circle:3\n",
            "28.274333882308138\n"
          ]
        }
      ]
    },
    {
      "cell_type": "markdown",
      "source": [
        "Ask for the radius and the depth of a cylinder and work out the total volume (circle area*depth) rounded to three decimal places."
      ],
      "metadata": {
        "id": "yMiEDSD4jkLM"
      }
    },
    {
      "cell_type": "code",
      "source": [
        "import math\n",
        "rad=int(input(\"Enter the radius:\"))\n",
        "depth=int(input(\"Enter the depth:\"))\n",
        "circle_area=math.pi*(rad**2)\n",
        "volume=circle_area*depth\n",
        "print(round(volume,3))"
      ],
      "metadata": {
        "colab": {
          "base_uri": "https://localhost:8080/"
        },
        "id": "GyNCf_zAjZ5C",
        "outputId": "e89ecc72-8531-4be1-af78-d1b2b93aa09c"
      },
      "execution_count": 50,
      "outputs": [
        {
          "output_type": "stream",
          "name": "stdout",
          "text": [
            "Enter the radius:3\n",
            "Enter th depth:2\n",
            "56.549\n"
          ]
        }
      ]
    },
    {
      "cell_type": "markdown",
      "source": [
        "Ask the user to enter two numbers.Use whole number division to divide the first number by the second and also work out the remainder and display the answer in a user-friendly way (e.g. if they enter 7 and 2 display \"7 divided by 2 is 3 with 1 remaining\")."
      ],
      "metadata": {
        "id": "zJOc8OoRkL_E"
      }
    },
    {
      "cell_type": "code",
      "source": [
        "a=11\n",
        "b=2\n",
        "a/b"
      ],
      "metadata": {
        "colab": {
          "base_uri": "https://localhost:8080/"
        },
        "id": "VWp88dcij_DQ",
        "outputId": "0fc21c58-9011-4eff-a8ba-142b66d72a7b"
      },
      "execution_count": 51,
      "outputs": [
        {
          "output_type": "execute_result",
          "data": {
            "text/plain": [
              "5.5"
            ]
          },
          "metadata": {},
          "execution_count": 51
        }
      ]
    },
    {
      "cell_type": "code",
      "source": [
        "a//b"
      ],
      "metadata": {
        "colab": {
          "base_uri": "https://localhost:8080/"
        },
        "id": "okV3NK03kWaV",
        "outputId": "fb8526f1-ddad-4aab-b521-137c532d9d07"
      },
      "execution_count": 52,
      "outputs": [
        {
          "output_type": "execute_result",
          "data": {
            "text/plain": [
              "5"
            ]
          },
          "metadata": {},
          "execution_count": 52
        }
      ]
    },
    {
      "cell_type": "code",
      "source": [
        "a%b"
      ],
      "metadata": {
        "colab": {
          "base_uri": "https://localhost:8080/"
        },
        "id": "Z590ArlXkcBw",
        "outputId": "86e4b2a3-c0d4-4938-cd85-cebfea14dea2"
      },
      "execution_count": 53,
      "outputs": [
        {
          "output_type": "execute_result",
          "data": {
            "text/plain": [
              "1"
            ]
          },
          "metadata": {},
          "execution_count": 53
        }
      ]
    },
    {
      "cell_type": "code",
      "source": [
        "num1=int(input(\"Enter a number:\"))\n",
        "num2=int(input(\"Enter anothe number:\"))\n",
        "quotient=num1//num2\n",
        "remainder=num1%num2\n",
        "print(num1,\"divided by\", num2,\"is\",quotient,\"with\",remainder,\"remaining\")"
      ],
      "metadata": {
        "colab": {
          "base_uri": "https://localhost:8080/"
        },
        "id": "ZS20s4Gzkfku",
        "outputId": "2e748535-da11-4e85-986e-cfa4562958bd"
      },
      "execution_count": 54,
      "outputs": [
        {
          "output_type": "stream",
          "name": "stdout",
          "text": [
            "Enter a number:11\n",
            "Enter anothe number:2\n",
            "11 divided by 2 is 5 with 1 remaining\n"
          ]
        }
      ]
    },
    {
      "cell_type": "markdown",
      "source": [
        "\n",
        "\n",
        "```\n",
        "Display the following message: \n",
        "1) Square \n",
        "2) triangle\n",
        "\n",
        "Enter a number:\n",
        "\n",
        "If the user enters 1, then it should ask them for the length of one of its sides and display the area. \n",
        "\n",
        "If they select 2, it should ask for the base and height of the triangle and display the area. \n",
        "\n",
        "If they type in anything else, it should give them a suitable error message.\n",
        "```\n",
        "\n"
      ],
      "metadata": {
        "id": "AOaVYZGnlI12"
      }
    },
    {
      "cell_type": "code",
      "source": [
        "print(\"1) Square\")\n",
        "print(\"2) Triangle\")\n",
        "print()\n",
        "selection=int(input(\"Enter a number:\"))\n",
        "if(selection==1):\n",
        "  side=int(input(\"Enter the side of the Square:\"))\n",
        "  area=side**2\n",
        "  print(\"The area of the square is: \", area)\n",
        "\n",
        "elif(selection==2):\n",
        "  base=int(input(\"Enter the base of the triangle:\"))\n",
        "  height=int(input(\"Enter the height of the triangle:\"))\n",
        "  area=0.5*base*height \n",
        "  print(\"The area of the Triangle is: \",area)\n",
        "\n",
        "else:\n",
        "  print(\"it is a wrong number\")     "
      ],
      "metadata": {
        "colab": {
          "base_uri": "https://localhost:8080/"
        },
        "id": "iEjY4ELUk9q7",
        "outputId": "6a8167dc-674b-47fd-a7ed-999b3351acce"
      },
      "execution_count": 58,
      "outputs": [
        {
          "output_type": "stream",
          "name": "stdout",
          "text": [
            "1) Square\n",
            "2) Triangle\n",
            "\n",
            "Enter a number:2\n",
            "Enter the base of the triangle:3\n",
            "Enter the height of the triangle:2\n",
            "The area of the Triangle is:  3.0\n"
          ]
        }
      ]
    },
    {
      "cell_type": "markdown",
      "source": [
        "Ask the user to enter their name and then display their name three times."
      ],
      "metadata": {
        "id": "GKp8b-UGmpKR"
      }
    },
    {
      "cell_type": "code",
      "source": [
        "name=input(\"Enter your name:\")\n",
        "print(name*3)"
      ],
      "metadata": {
        "colab": {
          "base_uri": "https://localhost:8080/"
        },
        "id": "-OEsww_dldWC",
        "outputId": "7e316f1e-ed22-498e-bba5-1612c9a2b41a"
      },
      "execution_count": 61,
      "outputs": [
        {
          "output_type": "stream",
          "name": "stdout",
          "text": [
            "Enter your name:Apurba\n",
            "ApurbaApurbaApurba\n"
          ]
        }
      ]
    },
    {
      "cell_type": "markdown",
      "source": [
        "Ask the user to enter their name and a number and then display their name that number of times."
      ],
      "metadata": {
        "id": "Jh-A9jDTm-0O"
      }
    },
    {
      "cell_type": "code",
      "source": [
        "name=input(\"Enter your name:\")\n",
        "num=int(input(\"Enter the number:\"))\n",
        "print(name*num)\n"
      ],
      "metadata": {
        "colab": {
          "base_uri": "https://localhost:8080/"
        },
        "id": "lXe4iJ0omuXO",
        "outputId": "baed1ae2-92a9-45dd-912f-5548bade8a7d"
      },
      "execution_count": 62,
      "outputs": [
        {
          "output_type": "stream",
          "name": "stdout",
          "text": [
            "Enter your name:Apurba\n",
            "Enter the number:3\n",
            "ApurbaApurbaApurba\n"
          ]
        }
      ]
    },
    {
      "cell_type": "markdown",
      "source": [
        "Ask the user to enter their name and display each letter in their name on a separate line."
      ],
      "metadata": {
        "id": "9g4o1ZOBnVG8"
      }
    },
    {
      "cell_type": "code",
      "source": [
        "name=input(\"Enter your name:\")\n",
        "for i in range(len(name)):\n",
        "  print(name[i])"
      ],
      "metadata": {
        "colab": {
          "base_uri": "https://localhost:8080/"
        },
        "id": "Usu11R9BnO0l",
        "outputId": "149a937b-1690-4dae-8921-1cab7a126f6c"
      },
      "execution_count": 63,
      "outputs": [
        {
          "output_type": "stream",
          "name": "stdout",
          "text": [
            "Enter your name:Apurba\n",
            "A\n",
            "p\n",
            "u\n",
            "r\n",
            "b\n",
            "a\n"
          ]
        }
      ]
    },
    {
      "cell_type": "markdown",
      "source": [
        "Ask the user to enter a number between 1 and 12 and then display the times table for that number."
      ],
      "metadata": {
        "id": "7b9Am0eTnoad"
      }
    },
    {
      "cell_type": "code",
      "source": [
        "num=int(input(\"Enter the number:\"))\n",
        "if(num>1 and num<12):\n",
        "  for i in range(1,11):\n",
        "    print(num,'X',i,\"=\",num*i)\n",
        "else:\n",
        "  print(\"Not in the range\")    "
      ],
      "metadata": {
        "colab": {
          "base_uri": "https://localhost:8080/"
        },
        "id": "F8z4WLA8neXK",
        "outputId": "e34ad179-a465-497e-b4ad-3448ea294236"
      },
      "execution_count": 68,
      "outputs": [
        {
          "output_type": "stream",
          "name": "stdout",
          "text": [
            "Enter the number:13\n",
            "Not in the range\n"
          ]
        }
      ]
    },
    {
      "cell_type": "code",
      "source": [],
      "metadata": {
        "id": "pNAgmDaqn-so"
      },
      "execution_count": null,
      "outputs": []
    }
  ]
}