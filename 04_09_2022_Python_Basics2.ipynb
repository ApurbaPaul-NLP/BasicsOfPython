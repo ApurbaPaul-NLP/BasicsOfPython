{
  "nbformat": 4,
  "nbformat_minor": 0,
  "metadata": {
    "colab": {
      "provenance": [],
      "authorship_tag": "ABX9TyO921o10BEG3FHgmaJ7tlFC",
      "include_colab_link": true
    },
    "kernelspec": {
      "name": "python3",
      "display_name": "Python 3"
    },
    "language_info": {
      "name": "python"
    }
  },
  "cells": [
    {
      "cell_type": "markdown",
      "metadata": {
        "id": "view-in-github",
        "colab_type": "text"
      },
      "source": [
        "<a href=\"https://colab.research.google.com/github/ApurbaPaul-NLP/BasicsOfPython/blob/main/04_09_2022_Python_Basics2.ipynb\" target=\"_parent\"><img src=\"https://colab.research.google.com/assets/colab-badge.svg\" alt=\"Open In Colab\"/></a>"
      ]
    },
    {
      "cell_type": "markdown",
      "source": [
        "# 1. Ask for the user's first name and display the output message Hello [First Name] ."
      ],
      "metadata": {
        "id": "19kkKZefWgdk"
      }
    },
    {
      "cell_type": "code",
      "source": [
        "fn=input(\"Please enter your First Name: \")\n",
        "print(\"Hello,\",fn)"
      ],
      "metadata": {
        "colab": {
          "base_uri": "https://localhost:8080/"
        },
        "id": "RX_lIERMWjpU",
        "outputId": "5278a9c2-2cf0-44b6-cf87-b85c06955be3"
      },
      "execution_count": 1,
      "outputs": [
        {
          "output_type": "stream",
          "name": "stdout",
          "text": [
            "Please enter your First Name: Apurba\n",
            "Hello, Apurba\n"
          ]
        }
      ]
    },
    {
      "cell_type": "markdown",
      "source": [
        "# 2. Ask for the user’s first name and then ask for their surname and display the output message Hello [First Name] [Surname]."
      ],
      "metadata": {
        "id": "8wzVka07XGtj"
      }
    },
    {
      "cell_type": "code",
      "source": [
        "fn=input(\"Please enter your First name: \")\n",
        "sn=input(\"Please enter your Surname: \")\n",
        "print(\"Hello,\",fn,sn)"
      ],
      "metadata": {
        "colab": {
          "base_uri": "https://localhost:8080/"
        },
        "id": "Z7I-Gi3mW9mv",
        "outputId": "fe37573f-8cc0-4c6b-ce86-bfc092192bba"
      },
      "execution_count": 2,
      "outputs": [
        {
          "output_type": "stream",
          "name": "stdout",
          "text": [
            "Please enter your First name: Apurba\n",
            "Please enter your Surname: Paul\n",
            "Hello, Apurba Paul\n"
          ]
        }
      ]
    },
    {
      "cell_type": "markdown",
      "source": [
        "## 3. Write code that will display the joke \"What do you call a bear with no teeth?\" and on the next line display the answer \"A gummy bear!\" Try to create it using only one line of code."
      ],
      "metadata": {
        "id": "hw89OBmRXpeK"
      }
    },
    {
      "cell_type": "code",
      "source": [
        "print(\"What do you call a bear with no teeth?\\nA gummy bear!\")"
      ],
      "metadata": {
        "colab": {
          "base_uri": "https://localhost:8080/"
        },
        "id": "n_F_DYZwXcK8",
        "outputId": "f27d9412-467c-4b14-94c3-dae4f9774a4d"
      },
      "execution_count": 3,
      "outputs": [
        {
          "output_type": "stream",
          "name": "stdout",
          "text": [
            "What do you call a bear with no teeth?\n",
            "A gummy bear!\n"
          ]
        }
      ]
    },
    {
      "cell_type": "markdown",
      "source": [
        "# 4. Ask the user to enter two numbers. Add them together and display the answer as The total is [answer]."
      ],
      "metadata": {
        "id": "pQ7CmbOaX7tq"
      }
    },
    {
      "cell_type": "code",
      "source": [
        "num1=int(input(\"Enter the First Number: \"))\n",
        "num2=int(input(\"Enter the Second Number: \"))\n",
        "answer=num1+num2\n",
        "print(\"The Answer is: \",answer)"
      ],
      "metadata": {
        "colab": {
          "base_uri": "https://localhost:8080/"
        },
        "id": "v9TwKIYNX15i",
        "outputId": "1f72296d-14b5-4144-ebfc-efeecd5aa22a"
      },
      "execution_count": 4,
      "outputs": [
        {
          "output_type": "stream",
          "name": "stdout",
          "text": [
            "Enter the First Number: 10\n",
            "Enter the Second Number: 20\n",
            "The Answer is:  30\n"
          ]
        }
      ]
    },
    {
      "cell_type": "markdown",
      "source": [
        "# 5. Ask the user to enter three numbers. Add together the first two numbers and then multiply this total by the third. Display the answer as The answer is [answer]."
      ],
      "metadata": {
        "id": "EHr6twuYYcDv"
      }
    },
    {
      "cell_type": "code",
      "source": [
        "num1=int(input(\"Please enter the First number: \"))\n",
        "num2=int(input(\"Please enter the Second number: \"))\n",
        "num3=int(input(\"Please enter the Third number: \"))\n",
        "answer=(num1+num2)*num3\n",
        "print(\"The answer is: \",answer)"
      ],
      "metadata": {
        "colab": {
          "base_uri": "https://localhost:8080/"
        },
        "id": "KoGEmblOYSja",
        "outputId": "392d38e6-d6f4-4af8-ac48-4ce5d524b129"
      },
      "execution_count": 5,
      "outputs": [
        {
          "output_type": "stream",
          "name": "stdout",
          "text": [
            "Please enter the First number: 10\n",
            "Please enter the Second number: 20\n",
            "Please enter the Third number: 30\n",
            "The answer is:  900\n"
          ]
        }
      ]
    },
    {
      "cell_type": "markdown",
      "source": [
        "# 6. Ask how many slices of pizza the user started with and ask how many slices they have eaten. Work out how many slices they have left and display the answer in a user-friendly format."
      ],
      "metadata": {
        "id": "LDVnSPucZAuq"
      }
    },
    {
      "cell_type": "code",
      "source": [
        "startnum=int(input(\"Enter the number of slices of pizza you started with: \"))\n",
        "endnum=int(input(\"How many Slices you have eaten: \"))\n",
        "slicesleft=startnum-endnum\n",
        "print(\"You have\",slicesleft,\"slices remaining\")"
      ],
      "metadata": {
        "colab": {
          "base_uri": "https://localhost:8080/"
        },
        "id": "2pNmjJeaY0b9",
        "outputId": "90315807-1a09-4d85-904d-0d7be628a29b"
      },
      "execution_count": 7,
      "outputs": [
        {
          "output_type": "stream",
          "name": "stdout",
          "text": [
            "Enter the number of slices of pizza you started with: 5\n",
            "How many Slices you have eaten: 3\n",
            "You have 2 slices remaining\n"
          ]
        }
      ]
    },
    {
      "cell_type": "markdown",
      "source": [
        "# 7. Ask the user for their name and their age. Add 1 to their age and display the output [Name] next birthday you will be [new age]."
      ],
      "metadata": {
        "id": "OjpxoQ1WZ3_A"
      }
    },
    {
      "cell_type": "code",
      "source": [
        "name=input(\"What is your name? \")\n",
        "age=int(input(\"How old are you? \"))\n",
        "newage=age+1\n",
        "print(name,\"on next birthday you will be\",newage)"
      ],
      "metadata": {
        "colab": {
          "base_uri": "https://localhost:8080/"
        },
        "id": "oRkT-vhxZv2T",
        "outputId": "958d7643-8931-49f6-ccfb-2f7b65f8b2f2"
      },
      "execution_count": 9,
      "outputs": [
        {
          "output_type": "stream",
          "name": "stdout",
          "text": [
            "What is your name? Apurba\n",
            "How old are you? 10\n",
            "Apurba on next birthday you will be 11\n"
          ]
        }
      ]
    },
    {
      "cell_type": "markdown",
      "source": [
        "# 8. Ask for the total price of the bill, then ask how many diners there are. Divide the total bill by the number of diners and show how much each person must pay."
      ],
      "metadata": {
        "id": "vxjbzynMalxm"
      }
    },
    {
      "cell_type": "code",
      "source": [
        "bill=int(input(\"What is the total cost of the bill? \"))\n",
        "people=int(input(\"How many people are there? \"))\n",
        "each=bill/people\n",
        "print(\"Each person should pay Rs.\",each)"
      ],
      "metadata": {
        "colab": {
          "base_uri": "https://localhost:8080/"
        },
        "id": "AN9l704XaYKg",
        "outputId": "33f68bad-b3d6-4a00-8e0d-07cbedca9df9"
      },
      "execution_count": 10,
      "outputs": [
        {
          "output_type": "stream",
          "name": "stdout",
          "text": [
            "What is the total cost of the bill? 100\n",
            "How many people are there? 4\n",
            "Each person should pay Rs. 25.0\n"
          ]
        }
      ]
    },
    {
      "cell_type": "markdown",
      "source": [
        "# 9. Write a program that will ask for a number of days and then will show how many hours, minutes and seconds are in that number of days."
      ],
      "metadata": {
        "id": "VYifinwDbVyD"
      }
    },
    {
      "cell_type": "code",
      "source": [
        "days=int(input(\"Enter the number of days: \"))\n",
        "hours=days*24\n",
        "minutes=hours*60\n",
        "seconds=minutes*60\n",
        "print(\"In\",days,\"days there are...\")\n",
        "print(hours,\"hours\")\n",
        "print(minutes,\"minutes\")\n",
        "print(seconds,\"seconds\")"
      ],
      "metadata": {
        "colab": {
          "base_uri": "https://localhost:8080/"
        },
        "id": "v8pqoaTZbKez",
        "outputId": "4f61b07d-2b72-4ba2-f32f-e34e47012861"
      },
      "execution_count": 11,
      "outputs": [
        {
          "output_type": "stream",
          "name": "stdout",
          "text": [
            "Enter the number of days: 2\n",
            "In 2 days there are...\n",
            "48 hours\n",
            "2880 minutes\n",
            "172800 seconds\n"
          ]
        }
      ]
    },
    {
      "cell_type": "markdown",
      "source": [
        "# 10. There are 2.204 pounds in a kilogram. Ask the user to enter a weight in kilograms and convert it to pounds."
      ],
      "metadata": {
        "id": "hUNDmLK9cAuT"
      }
    },
    {
      "cell_type": "code",
      "source": [
        "kilo=int(input(\"Enter the number of kilos: \"))\n",
        "pound=kilo*2.204\n",
        "print(\"That is\",pound,\"pounds\")"
      ],
      "metadata": {
        "colab": {
          "base_uri": "https://localhost:8080/"
        },
        "id": "s5DzWkKib3qX",
        "outputId": "0d162c7b-ec66-471b-d579-808d65f20cda"
      },
      "execution_count": 12,
      "outputs": [
        {
          "output_type": "stream",
          "name": "stdout",
          "text": [
            "Enter the number of kilos: 2\n",
            "That is 4.408 pounds\n"
          ]
        }
      ]
    },
    {
      "cell_type": "markdown",
      "source": [
        "# 11. Ask the user to enter a number over 100 and then enter a number under 10 and tell them how many times the smaller number goes into the larger number in a user-friendly format."
      ],
      "metadata": {
        "id": "DYGXdv6jci_Z"
      }
    },
    {
      "cell_type": "code",
      "source": [
        "larger=int(input(\"Enter a number over 100: \"))\n",
        "smaller=int(input(\"Enter a number under 10: \"))\n",
        "answer=larger//smaller\n",
        "print(smaller,\"goes into\",larger,answer,\"times\")"
      ],
      "metadata": {
        "colab": {
          "base_uri": "https://localhost:8080/"
        },
        "id": "W5Pi9tACcbPx",
        "outputId": "f80366a2-4898-4259-da92-07d88aff6457"
      },
      "execution_count": 13,
      "outputs": [
        {
          "output_type": "stream",
          "name": "stdout",
          "text": [
            "Enter a number over 100: 120\n",
            "Enter a number under 10: 8\n",
            "8 goes into 120 15 times\n"
          ]
        }
      ]
    },
    {
      "cell_type": "markdown",
      "source": [
        "# 12. Ask for two numbers. If the first one is larger than the second, display the second number first and then the first number, otherwise show the first number first and then the second."
      ],
      "metadata": {
        "id": "BxO_L1xCdlZQ"
      }
    },
    {
      "cell_type": "code",
      "source": [
        "num1=int(input(\"Enter the first number: \"))\n",
        "num2=int(input(\"Enter the Second number: \"))\n",
        "if(num1<num2):\n",
        "  print(num2,num1)\n",
        "elif(num1>num2):\n",
        "  print(num1,num2)  \n"
      ],
      "metadata": {
        "colab": {
          "base_uri": "https://localhost:8080/"
        },
        "id": "62QZOIN-dK2C",
        "outputId": "f80a1ba3-12a7-4216-9e58-caa1405ac761"
      },
      "execution_count": 22,
      "outputs": [
        {
          "output_type": "stream",
          "name": "stdout",
          "text": [
            "Enter the first number: 20\n",
            "Enter the Second number: 10\n",
            "20 10\n"
          ]
        }
      ]
    },
    {
      "cell_type": "markdown",
      "source": [
        "# 13. Ask the user to enter a number that is under 20. If they enter a number that is 20 or more, display the message \"Too high\", otherwise display \"Thank you\"."
      ],
      "metadata": {
        "id": "Kw8hH41We_5T"
      }
    },
    {
      "cell_type": "code",
      "source": [
        "num=int(input(\"Enter a value less than 20: \"))\n",
        "if(num>=20):\n",
        "  print(\"Too high\")\n",
        "else:\n",
        "  print(\"Thank you\")  "
      ],
      "metadata": {
        "colab": {
          "base_uri": "https://localhost:8080/"
        },
        "id": "hWBE0mbDeFI2",
        "outputId": "1cdc0438-70c8-493a-a101-067cd3235ff7"
      },
      "execution_count": 24,
      "outputs": [
        {
          "output_type": "stream",
          "name": "stdout",
          "text": [
            "Enter a value less than 20: 21\n",
            "Too high\n"
          ]
        }
      ]
    },
    {
      "cell_type": "markdown",
      "source": [
        "# 14. Ask the user to enter a number between 10 and 20 (inclusive). If they enter a number within this range, display the message \"Thank you\", otherwise display the message \"Incorrect answer\"."
      ],
      "metadata": {
        "id": "5lVeJTF7fWtv"
      }
    },
    {
      "cell_type": "code",
      "source": [
        "num=int(input(\"Enter a value between 10 and 20 (inclusive) :\"))\n",
        "if(num>=10 and num<=20):\n",
        "  print(\"Thank you\")\n",
        "else:\n",
        "  print(\"Incorrect Answer\")  "
      ],
      "metadata": {
        "colab": {
          "base_uri": "https://localhost:8080/"
        },
        "id": "RDfPxRNtfPZq",
        "outputId": "c9e23815-1b16-4ba3-f21f-59f8594ab1a3"
      },
      "execution_count": 26,
      "outputs": [
        {
          "output_type": "stream",
          "name": "stdout",
          "text": [
            "Enter a value between 10 and 20 (inclusive) :21\n",
            "Incorrect Answer\n"
          ]
        }
      ]
    },
    {
      "cell_type": "code",
      "source": [
        "a=10\n",
        "print(5<=a<15)"
      ],
      "metadata": {
        "colab": {
          "base_uri": "https://localhost:8080/"
        },
        "id": "7eKWqbfzgvqE",
        "outputId": "df1f3cd7-ee4c-46fa-df77-fde1ec27790a"
      },
      "execution_count": 33,
      "outputs": [
        {
          "output_type": "stream",
          "name": "stdout",
          "text": [
            "True\n"
          ]
        }
      ]
    },
    {
      "cell_type": "markdown",
      "source": [
        "# 15. Ask the user to enter their favourite colour. If they enter \"red\", \"RED\" or \"Red\" display the message \"I like red too\", otherwise display the message \"I don’t like [colour], I prefer red\"."
      ],
      "metadata": {
        "id": "_SDKQKSrf776"
      }
    },
    {
      "cell_type": "code",
      "source": [
        "color=input(\"Type your favourite color: \")\n",
        "if(color=='red' or color=='RED' or color=='Red'):\n",
        "  print(\"I like red too\")\n",
        "else:\n",
        "  print(\"I dont like\",color,\"I prefer red\")  "
      ],
      "metadata": {
        "colab": {
          "base_uri": "https://localhost:8080/"
        },
        "id": "GSBZSDsGfwkL",
        "outputId": "3159b6a4-0b81-4441-8c99-196d34d2e190"
      },
      "execution_count": 31,
      "outputs": [
        {
          "output_type": "stream",
          "name": "stdout",
          "text": [
            "Type your favourite color: yellow\n",
            "I dont like yellow I prefer red\n"
          ]
        }
      ]
    },
    {
      "cell_type": "markdown",
      "source": [
        "# 16. Ask the user if it is raining and convert their answer to lower case so it doesn’t matter what case they type it in. If they answer \"yes\", ask if it is windy. If they answer \"yes\" to this second question, display the answer \"It is too windy for an umbrella\", otherwise display the message \"Take an umbrella\". If they did not answer yes to the first question, display the answer \"Enjoy your day\"."
      ],
      "metadata": {
        "id": "kqd7cKp6hEuw"
      }
    },
    {
      "cell_type": "code",
      "source": [
        "rain=input(\"Is it raining?(yes/Yes/YES/no/No/NO) \")\n",
        "rain=str.lower(rain)\n",
        "if(rain=='yes'):\n",
        "  windy=input(\"is it windy?\")\n",
        "  windy=str.lower(windy)\n",
        "  if(windy=='yes'):\n",
        "    print(\"It is too windy for an umberlla\")\n",
        "  else:\n",
        "    print(\"Take an umbrella\")\n",
        "else:\n",
        "  print(\"Enjoy your day\")      \n"
      ],
      "metadata": {
        "colab": {
          "base_uri": "https://localhost:8080/"
        },
        "id": "jq_AqJRwgcIo",
        "outputId": "6def2c0a-176b-4593-b0a7-ec53d02f018d"
      },
      "execution_count": 36,
      "outputs": [
        {
          "output_type": "stream",
          "name": "stdout",
          "text": [
            "Is it raining?(yes/Yes/YES/no/No/NO) YES\n",
            "is it windy?YES\n",
            "It is too windy for an umberlla\n"
          ]
        }
      ]
    },
    {
      "cell_type": "markdown",
      "source": [
        "# 17. Ask the user’s age. If they are 18 or over, display the message \"You can vote\", if they are aged 17, display the message \"You can learn to drive\", if they are 16, display the message \"You can buy a lottery ticket\", if they are under 16, display the message \"You can go Trick-or-Treating\"."
      ],
      "metadata": {
        "id": "gLMT27WdiYoZ"
      }
    },
    {
      "cell_type": "code",
      "source": [
        "age=int(input(\"What is your age?\"))\n",
        "if(age>18):\n",
        "  print(\"You can vote.\")\n",
        "elif(age==17):\n",
        "  print(\"You can learn to drive.\")\n",
        "elif(age==16):\n",
        "  print(\"You can buy a lottery ticket.\")\n",
        "elif(age<16):\n",
        "  print(\"You can go Trick-or-Treating.\")    "
      ],
      "metadata": {
        "colab": {
          "base_uri": "https://localhost:8080/"
        },
        "id": "RBUdNd4YiMw3",
        "outputId": "6c017b54-d95d-46f5-c0c7-4041e65ca922"
      },
      "execution_count": 41,
      "outputs": [
        {
          "output_type": "stream",
          "name": "stdout",
          "text": [
            "What is your age?15\n",
            "You can go Trick-or-Treating.\n"
          ]
        }
      ]
    },
    {
      "cell_type": "markdown",
      "source": [
        "# 18 .Ask the user to enter a number. If it is under 10,display the message \"Too low\", if their number is between 10 and 20, display \"Correct\", otherwise display \"Too high\".\n"
      ],
      "metadata": {
        "id": "NCbZ2sv8jYsf"
      }
    },
    {
      "cell_type": "code",
      "source": [
        "num=int(input(\"Enter a number: \"))\n",
        "if(num<10):\n",
        "  print(\"Too low\")\n",
        "elif(num>=10 and num<=20):\n",
        "  print(\"Correct\")\n",
        "else:\n",
        "  print(\"Too high\")    "
      ],
      "metadata": {
        "colab": {
          "base_uri": "https://localhost:8080/"
        },
        "id": "QgR8-zTjjduz",
        "outputId": "cf91b6ca-d605-4439-8345-2cea34a7f44a"
      },
      "execution_count": 44,
      "outputs": [
        {
          "output_type": "stream",
          "name": "stdout",
          "text": [
            "Enter a number: 21\n",
            "Too high\n"
          ]
        }
      ]
    },
    {
      "cell_type": "markdown",
      "source": [
        "# 19. Ask the user to enter 1, 2 or 3. If they enter a 1, display the message \"Thank you\", if they enter a 2, display \"Well done\", if they enter a 3, display \"Correct\". If they enter anything else, display \"Error message\"."
      ],
      "metadata": {
        "id": "H3d6DEd3jbXX"
      }
    },
    {
      "cell_type": "code",
      "source": [
        "num=int(input(\"Enter 1, 2 or 3: \"))\n",
        "if(num==1):\n",
        "  print(\"Thank you\")\n",
        "elif(num==2):\n",
        "  print(\"Well done\")  \n",
        "elif(num==3):\n",
        "  print(\"Correct\")\n",
        "else:\n",
        "  print(\"Error Message\")    "
      ],
      "metadata": {
        "colab": {
          "base_uri": "https://localhost:8080/"
        },
        "id": "uxn9OSt-jA4z",
        "outputId": "aaa359a4-c852-4d15-aae6-2be02ac95067"
      },
      "execution_count": 48,
      "outputs": [
        {
          "output_type": "stream",
          "name": "stdout",
          "text": [
            "Enter 1, 2 or 3: 4\n",
            "Error Message\n"
          ]
        }
      ]
    }
  ]
}